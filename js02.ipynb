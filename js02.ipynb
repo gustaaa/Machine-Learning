{
 "cells": [
  {
   "cell_type": "markdown",
   "metadata": {},
   "source": [
    "# Jobsheet 02 - Regression\n",
    "\n",
    "Isikan identitas berikut\n",
    "NIM:\n",
    "Nama:\n",
    "Kelas:"
   ]
  },
  {
   "cell_type": "markdown",
   "metadata": {},
   "source": [
    "## Tujuan\n",
    "1. Mahasiswa mampu menjelaskan konsep regresi\n",
    "2. Mahasiswa mampu menerapkan konsep regresi untuk kasus prediksi data"
   ]
  },
  {
   "cell_type": "markdown",
   "metadata": {},
   "source": [
    "## Kegiatan Praktikum"
   ]
  },
  {
   "cell_type": "markdown",
   "metadata": {},
   "source": [
    "Kegiatan praktikum ini membutuhkan dataset untuk diolah datanya menjadi sebuah analisis prediksi. Ikuti petunjuk dari dosen pengampu mengenai data apa saja yang boleh dipakai untuk kegiatan praktikum kali ini. Data yang ditampilkan pada jobsheet hanya sebuah contoh, mahasiswa harus mencari data sendiri dan memastikan data yang diperoleh tersebut sesuai dengan kasus yang dapat diselesaikan dengan regresi."
   ]
  },
  {
   "cell_type": "markdown",
   "metadata": {},
   "source": [
    "### Persiapan Data"
   ]
  },
  {
   "cell_type": "code",
   "execution_count": 55,
   "metadata": {},
   "outputs": [],
   "source": [
    "# import package\n",
    "import numpy as np\n",
    "import pandas as pd"
   ]
  },
  {
   "cell_type": "code",
   "execution_count": 56,
   "metadata": {},
   "outputs": [
    {
     "data": {
      "text/html": [
       "<div>\n",
       "<style scoped>\n",
       "    .dataframe tbody tr th:only-of-type {\n",
       "        vertical-align: middle;\n",
       "    }\n",
       "\n",
       "    .dataframe tbody tr th {\n",
       "        vertical-align: top;\n",
       "    }\n",
       "\n",
       "    .dataframe thead th {\n",
       "        text-align: right;\n",
       "    }\n",
       "</style>\n",
       "<table border=\"1\" class=\"dataframe\">\n",
       "  <thead>\n",
       "    <tr style=\"text-align: right;\">\n",
       "      <th></th>\n",
       "      <th>Year</th>\n",
       "      <th>Population</th>\n",
       "      <th>Yearly % Change</th>\n",
       "      <th>Yearly Change</th>\n",
       "      <th>Migrants (net)</th>\n",
       "      <th>Median Age</th>\n",
       "      <th>Fertility Rate</th>\n",
       "      <th>Density (P/Km²)</th>\n",
       "      <th>Urban Pop %</th>\n",
       "      <th>Urban Population</th>\n",
       "      <th>Country's Share of World Pop</th>\n",
       "      <th>World Population</th>\n",
       "      <th>Pakistan Global Rank</th>\n",
       "    </tr>\n",
       "  </thead>\n",
       "  <tbody>\n",
       "    <tr>\n",
       "      <th>0</th>\n",
       "      <td>2020</td>\n",
       "      <td>220892340</td>\n",
       "      <td>2.00</td>\n",
       "      <td>4327022</td>\n",
       "      <td>-233379</td>\n",
       "      <td>22.8</td>\n",
       "      <td>3.55</td>\n",
       "      <td>287</td>\n",
       "      <td>35.1</td>\n",
       "      <td>77437729</td>\n",
       "      <td>2.83</td>\n",
       "      <td>7794798739</td>\n",
       "      <td>5</td>\n",
       "    </tr>\n",
       "    <tr>\n",
       "      <th>1</th>\n",
       "      <td>2019</td>\n",
       "      <td>216565318</td>\n",
       "      <td>2.04</td>\n",
       "      <td>4337032</td>\n",
       "      <td>-233379</td>\n",
       "      <td>22.0</td>\n",
       "      <td>3.73</td>\n",
       "      <td>281</td>\n",
       "      <td>34.9</td>\n",
       "      <td>75510639</td>\n",
       "      <td>2.81</td>\n",
       "      <td>7713468100</td>\n",
       "      <td>5</td>\n",
       "    </tr>\n",
       "    <tr>\n",
       "      <th>2</th>\n",
       "      <td>2018</td>\n",
       "      <td>212228286</td>\n",
       "      <td>2.08</td>\n",
       "      <td>4322077</td>\n",
       "      <td>-233379</td>\n",
       "      <td>22.0</td>\n",
       "      <td>3.73</td>\n",
       "      <td>275</td>\n",
       "      <td>34.7</td>\n",
       "      <td>73630430</td>\n",
       "      <td>2.78</td>\n",
       "      <td>7631091040</td>\n",
       "      <td>5</td>\n",
       "    </tr>\n",
       "    <tr>\n",
       "      <th>3</th>\n",
       "      <td>2017</td>\n",
       "      <td>207906209</td>\n",
       "      <td>2.10</td>\n",
       "      <td>4274856</td>\n",
       "      <td>-233379</td>\n",
       "      <td>22.0</td>\n",
       "      <td>3.73</td>\n",
       "      <td>270</td>\n",
       "      <td>34.5</td>\n",
       "      <td>71795700</td>\n",
       "      <td>2.75</td>\n",
       "      <td>7547858925</td>\n",
       "      <td>5</td>\n",
       "    </tr>\n",
       "    <tr>\n",
       "      <th>4</th>\n",
       "      <td>2016</td>\n",
       "      <td>203631353</td>\n",
       "      <td>2.11</td>\n",
       "      <td>4204389</td>\n",
       "      <td>-233379</td>\n",
       "      <td>22.0</td>\n",
       "      <td>3.73</td>\n",
       "      <td>264</td>\n",
       "      <td>34.4</td>\n",
       "      <td>70005271</td>\n",
       "      <td>2.73</td>\n",
       "      <td>7464022049</td>\n",
       "      <td>6</td>\n",
       "    </tr>\n",
       "  </tbody>\n",
       "</table>\n",
       "</div>"
      ],
      "text/plain": [
       "   Year  Population  Yearly % Change  Yearly Change  Migrants (net)  \\\n",
       "0  2020   220892340             2.00        4327022         -233379   \n",
       "1  2019   216565318             2.04        4337032         -233379   \n",
       "2  2018   212228286             2.08        4322077         -233379   \n",
       "3  2017   207906209             2.10        4274856         -233379   \n",
       "4  2016   203631353             2.11        4204389         -233379   \n",
       "\n",
       "   Median Age  Fertility Rate  Density (P/Km²)  Urban Pop %  Urban Population  \\\n",
       "0        22.8            3.55              287         35.1          77437729   \n",
       "1        22.0            3.73              281         34.9          75510639   \n",
       "2        22.0            3.73              275         34.7          73630430   \n",
       "3        22.0            3.73              270         34.5          71795700   \n",
       "4        22.0            3.73              264         34.4          70005271   \n",
       "\n",
       "   Country's Share of World Pop  World Population  Pakistan Global Rank  \n",
       "0                          2.83        7794798739                     5  \n",
       "1                          2.81        7713468100                     5  \n",
       "2                          2.78        7631091040                     5  \n",
       "3                          2.75        7547858925                     5  \n",
       "4                          2.73        7464022049                     6  "
      ]
     },
     "execution_count": 56,
     "metadata": {},
     "output_type": "execute_result"
    }
   ],
   "source": [
    "# baca data\n",
    "data = pd.read_csv('pakistan_population.csv')\n",
    "data.head()"
   ]
  },
  {
   "cell_type": "code",
   "execution_count": 57,
   "metadata": {},
   "outputs": [
    {
     "name": "stdout",
     "output_type": "stream",
     "text": [
      "<class 'pandas.core.frame.DataFrame'>\n",
      "RangeIndex: 18 entries, 0 to 17\n",
      "Data columns (total 13 columns):\n",
      " #   Column                        Non-Null Count  Dtype  \n",
      "---  ------                        --------------  -----  \n",
      " 0   Year                          18 non-null     int64  \n",
      " 1   Population                    18 non-null     int64  \n",
      " 2   Yearly % Change               18 non-null     float64\n",
      " 3   Yearly Change                 18 non-null     int64  \n",
      " 4   Migrants (net)                18 non-null     int64  \n",
      " 5   Median Age                    18 non-null     float64\n",
      " 6   Fertility Rate                18 non-null     float64\n",
      " 7   Density (P/Km²)               18 non-null     int64  \n",
      " 8   Urban Pop %                   18 non-null     float64\n",
      " 9   Urban Population              18 non-null     int64  \n",
      " 10  Country's Share of World Pop  18 non-null     float64\n",
      " 11  World Population              18 non-null     int64  \n",
      " 12  Pakistan Global Rank          18 non-null     int64  \n",
      "dtypes: float64(5), int64(8)\n",
      "memory usage: 2.0 KB\n"
     ]
    },
    {
     "data": {
      "text/html": [
       "<div>\n",
       "<style scoped>\n",
       "    .dataframe tbody tr th:only-of-type {\n",
       "        vertical-align: middle;\n",
       "    }\n",
       "\n",
       "    .dataframe tbody tr th {\n",
       "        vertical-align: top;\n",
       "    }\n",
       "\n",
       "    .dataframe thead th {\n",
       "        text-align: right;\n",
       "    }\n",
       "</style>\n",
       "<table border=\"1\" class=\"dataframe\">\n",
       "  <thead>\n",
       "    <tr style=\"text-align: right;\">\n",
       "      <th></th>\n",
       "      <th>Year</th>\n",
       "      <th>Population</th>\n",
       "      <th>Yearly % Change</th>\n",
       "      <th>Yearly Change</th>\n",
       "      <th>Migrants (net)</th>\n",
       "      <th>Median Age</th>\n",
       "      <th>Fertility Rate</th>\n",
       "      <th>Density (P/Km²)</th>\n",
       "      <th>Urban Pop %</th>\n",
       "      <th>Urban Population</th>\n",
       "      <th>Country's Share of World Pop</th>\n",
       "      <th>World Population</th>\n",
       "      <th>Pakistan Global Rank</th>\n",
       "    </tr>\n",
       "  </thead>\n",
       "  <tbody>\n",
       "    <tr>\n",
       "      <th>count</th>\n",
       "      <td>18.000000</td>\n",
       "      <td>1.800000e+01</td>\n",
       "      <td>18.000000</td>\n",
       "      <td>1.800000e+01</td>\n",
       "      <td>18.000000</td>\n",
       "      <td>18.000000</td>\n",
       "      <td>18.000000</td>\n",
       "      <td>18.000000</td>\n",
       "      <td>18.000000</td>\n",
       "      <td>1.800000e+01</td>\n",
       "      <td>18.000000</td>\n",
       "      <td>1.800000e+01</td>\n",
       "      <td>18.000000</td>\n",
       "    </tr>\n",
       "    <tr>\n",
       "      <th>mean</th>\n",
       "      <td>1994.166667</td>\n",
       "      <td>1.336526e+08</td>\n",
       "      <td>2.455000</td>\n",
       "      <td>2.991239e+06</td>\n",
       "      <td>-74703.277778</td>\n",
       "      <td>20.205556</td>\n",
       "      <td>5.266667</td>\n",
       "      <td>173.500000</td>\n",
       "      <td>30.105556</td>\n",
       "      <td>4.317472e+07</td>\n",
       "      <td>2.190556</td>\n",
       "      <td>5.694506e+09</td>\n",
       "      <td>8.166667</td>\n",
       "    </tr>\n",
       "    <tr>\n",
       "      <th>std</th>\n",
       "      <td>22.350813</td>\n",
       "      <td>6.748246e+07</td>\n",
       "      <td>0.497266</td>\n",
       "      <td>1.308291e+06</td>\n",
       "      <td>151358.896504</td>\n",
       "      <td>1.532193</td>\n",
       "      <td>1.322155</td>\n",
       "      <td>87.586764</td>\n",
       "      <td>4.908513</td>\n",
       "      <td>2.579417e+07</td>\n",
       "      <td>0.527530</td>\n",
       "      <td>1.786229e+09</td>\n",
       "      <td>3.185445</td>\n",
       "    </tr>\n",
       "    <tr>\n",
       "      <th>min</th>\n",
       "      <td>1955.000000</td>\n",
       "      <td>4.048803e+07</td>\n",
       "      <td>1.520000</td>\n",
       "      <td>5.891310e+05</td>\n",
       "      <td>-233379.000000</td>\n",
       "      <td>18.400000</td>\n",
       "      <td>3.550000</td>\n",
       "      <td>53.000000</td>\n",
       "      <td>19.700000</td>\n",
       "      <td>7.968418e+06</td>\n",
       "      <td>1.460000</td>\n",
       "      <td>2.773020e+09</td>\n",
       "      <td>5.000000</td>\n",
       "    </tr>\n",
       "    <tr>\n",
       "      <th>25%</th>\n",
       "      <td>1976.250000</td>\n",
       "      <td>6.962624e+07</td>\n",
       "      <td>2.102500</td>\n",
       "      <td>1.863096e+06</td>\n",
       "      <td>-228992.500000</td>\n",
       "      <td>18.650000</td>\n",
       "      <td>3.742500</td>\n",
       "      <td>90.500000</td>\n",
       "      <td>26.750000</td>\n",
       "      <td>1.867222e+07</td>\n",
       "      <td>1.667500</td>\n",
       "      <td>4.174111e+09</td>\n",
       "      <td>6.000000</td>\n",
       "    </tr>\n",
       "    <tr>\n",
       "      <th>50%</th>\n",
       "      <td>1997.500000</td>\n",
       "      <td>1.330602e+08</td>\n",
       "      <td>2.345000</td>\n",
       "      <td>3.408935e+06</td>\n",
       "      <td>-54978.500000</td>\n",
       "      <td>20.000000</td>\n",
       "      <td>5.665000</td>\n",
       "      <td>173.000000</td>\n",
       "      <td>31.850000</td>\n",
       "      <td>4.239575e+07</td>\n",
       "      <td>2.235000</td>\n",
       "      <td>5.943853e+09</td>\n",
       "      <td>7.500000</td>\n",
       "    </tr>\n",
       "    <tr>\n",
       "      <th>75%</th>\n",
       "      <td>2015.750000</td>\n",
       "      <td>2.025803e+08</td>\n",
       "      <td>2.827500</td>\n",
       "      <td>4.153408e+06</td>\n",
       "      <td>-2073.250000</td>\n",
       "      <td>21.950000</td>\n",
       "      <td>6.600000</td>\n",
       "      <td>262.750000</td>\n",
       "      <td>34.350000</td>\n",
       "      <td>6.956065e+07</td>\n",
       "      <td>2.722500</td>\n",
       "      <td>7.442966e+09</td>\n",
       "      <td>10.000000</td>\n",
       "    </tr>\n",
       "    <tr>\n",
       "      <th>max</th>\n",
       "      <td>2020.000000</td>\n",
       "      <td>2.208923e+08</td>\n",
       "      <td>3.390000</td>\n",
       "      <td>4.337032e+06</td>\n",
       "      <td>277424.000000</td>\n",
       "      <td>22.800000</td>\n",
       "      <td>6.600000</td>\n",
       "      <td>287.000000</td>\n",
       "      <td>35.100000</td>\n",
       "      <td>7.743773e+07</td>\n",
       "      <td>2.830000</td>\n",
       "      <td>7.794799e+09</td>\n",
       "      <td>14.000000</td>\n",
       "    </tr>\n",
       "  </tbody>\n",
       "</table>\n",
       "</div>"
      ],
      "text/plain": [
       "              Year    Population  Yearly % Change  Yearly Change  \\\n",
       "count    18.000000  1.800000e+01        18.000000   1.800000e+01   \n",
       "mean   1994.166667  1.336526e+08         2.455000   2.991239e+06   \n",
       "std      22.350813  6.748246e+07         0.497266   1.308291e+06   \n",
       "min    1955.000000  4.048803e+07         1.520000   5.891310e+05   \n",
       "25%    1976.250000  6.962624e+07         2.102500   1.863096e+06   \n",
       "50%    1997.500000  1.330602e+08         2.345000   3.408935e+06   \n",
       "75%    2015.750000  2.025803e+08         2.827500   4.153408e+06   \n",
       "max    2020.000000  2.208923e+08         3.390000   4.337032e+06   \n",
       "\n",
       "       Migrants (net)  Median Age  Fertility Rate  Density (P/Km²)  \\\n",
       "count       18.000000   18.000000       18.000000        18.000000   \n",
       "mean    -74703.277778   20.205556        5.266667       173.500000   \n",
       "std     151358.896504    1.532193        1.322155        87.586764   \n",
       "min    -233379.000000   18.400000        3.550000        53.000000   \n",
       "25%    -228992.500000   18.650000        3.742500        90.500000   \n",
       "50%     -54978.500000   20.000000        5.665000       173.000000   \n",
       "75%      -2073.250000   21.950000        6.600000       262.750000   \n",
       "max     277424.000000   22.800000        6.600000       287.000000   \n",
       "\n",
       "       Urban Pop %  Urban Population  Country's Share of World Pop  \\\n",
       "count    18.000000      1.800000e+01                     18.000000   \n",
       "mean     30.105556      4.317472e+07                      2.190556   \n",
       "std       4.908513      2.579417e+07                      0.527530   \n",
       "min      19.700000      7.968418e+06                      1.460000   \n",
       "25%      26.750000      1.867222e+07                      1.667500   \n",
       "50%      31.850000      4.239575e+07                      2.235000   \n",
       "75%      34.350000      6.956065e+07                      2.722500   \n",
       "max      35.100000      7.743773e+07                      2.830000   \n",
       "\n",
       "       World Population  Pakistan Global Rank  \n",
       "count      1.800000e+01             18.000000  \n",
       "mean       5.694506e+09              8.166667  \n",
       "std        1.786229e+09              3.185445  \n",
       "min        2.773020e+09              5.000000  \n",
       "25%        4.174111e+09              6.000000  \n",
       "50%        5.943853e+09              7.500000  \n",
       "75%        7.442966e+09             10.000000  \n",
       "max        7.794799e+09             14.000000  "
      ]
     },
     "execution_count": 57,
     "metadata": {},
     "output_type": "execute_result"
    }
   ],
   "source": [
    "# pemahaman terhadap data\n",
    "# ukuran data\n",
    "data.shape\n",
    "\n",
    "# info data\n",
    "data.info()\n",
    "\n",
    "# deskripsi data\n",
    "data.describe()"
   ]
  },
  {
   "cell_type": "markdown",
   "metadata": {},
   "source": [
    "### Visualisasi Data"
   ]
  },
  {
   "cell_type": "code",
   "execution_count": 58,
   "metadata": {},
   "outputs": [],
   "source": [
    "# import library untuk visualisasi\n",
    "import matplotlib.pyplot as plt \n",
    "import seaborn as sns"
   ]
  },
  {
   "cell_type": "code",
   "execution_count": 59,
   "metadata": {},
   "outputs": [
    {
     "name": "stderr",
     "output_type": "stream",
     "text": [
      "c:\\Users\\USER\\anaconda3\\lib\\site-packages\\seaborn\\axisgrid.py:1969: UserWarning: The `size` parameter has been renamed to `height`; please update your code.\n",
      "  warnings.warn(msg, UserWarning)\n"
     ]
    },
    {
     "data": {
      "image/png": "[encoded data removed]",
      "text/plain": [
       "<Figure size 1728x288 with 6 Axes>"
      ]
     },
     "metadata": {
      "needs_background": "light"
     },
     "output_type": "display_data"
    }
   ],
   "source": [
    "# operasi visualisasi\n",
    "sns.pairplot(data, x_vars=['Population','Year', 'Yearly % Change','Yearly Change','Migrants (net)','Median Age'], \n",
    "             y_vars='Fertility Rate', size=4, aspect=1, kind='scatter')\n",
    "plt.show()"
   ]
  },
  {
   "cell_type": "markdown",
   "metadata": {},
   "source": [
    "output di atas kurang bisa menunjukkan korelasi antar data dalam x dengan data dalam y. Salah satu solusinya adalah menggunakan heatmap"
   ]
  },
  {
   "cell_type": "code",
   "execution_count": 60,
   "metadata": {},
   "outputs": [
    {
     "data": {
      "image/png": "[encoded data removed]",
      "text/plain": [
       "<Figure size 432x288 with 2 Axes>"
      ]
     },
     "metadata": {
      "needs_background": "light"
     },
     "output_type": "display_data"
    }
   ],
   "source": [
    "sns.heatmap(data.corr(), cmap=\"YlGnBu\", annot = True)\n",
    "plt.show()"
   ]
  },
  {
   "cell_type": "markdown",
   "metadata": {},
   "source": [
    "dari bentuk visualisasi di atas terlihat bahwa Length of Membership memiliki korelasi yang paling kuat terhadap Yearly Amount Spent"
   ]
  },
  {
   "cell_type": "markdown",
   "metadata": {},
   "source": [
    "### Regresi Linier"
   ]
  },
  {
   "cell_type": "code",
   "execution_count": 61,
   "metadata": {},
   "outputs": [],
   "source": [
    "# Buat variabel bebas X dan Y, sebagai contoh ambil dari hasil analisis korelasi dari kegaitan sebelumnya\n",
    "X = data['Population']\n",
    "y = data['Fertility Rate']"
   ]
  },
  {
   "cell_type": "code",
   "execution_count": 62,
   "metadata": {},
   "outputs": [],
   "source": [
    "# Buat pemisahan data uji dan data latih dengan proporsi 7:3\n",
    "from sklearn.model_selection import train_test_split\n",
    "X_train, X_test, y_train, y_test = train_test_split(X, y, train_size = 0.7, \n",
    "                                                    test_size = 0.3, random_state = 100)\n"
   ]
  },
  {
   "cell_type": "code",
   "execution_count": 63,
   "metadata": {},
   "outputs": [
    {
     "data": {
      "text/plain": [
       "6     4.17\n",
       "17    6.60\n",
       "12    6.60\n",
       "5     3.78\n",
       "2     3.73\n",
       "4     3.73\n",
       "10    6.30\n",
       "0     3.55\n",
       "15    6.60\n",
       "7     4.71\n",
       "3     3.73\n",
       "8     5.37\n",
       "Name: Fertility Rate, dtype: float64"
      ]
     },
     "execution_count": 63,
     "metadata": {},
     "output_type": "execute_result"
    }
   ],
   "source": [
    "# hasil training dtaset\n",
    "X_train\n",
    "y_train"
   ]
  },
  {
   "cell_type": "code",
   "execution_count": 64,
   "metadata": {},
   "outputs": [],
   "source": [
    "# training model\n",
    "import statsmodels.api as sm\n",
    "\n",
    "X_train_sm = sm.add_constant(X_train)"
   ]
  },
  {
   "cell_type": "code",
   "execution_count": 65,
   "metadata": {},
   "outputs": [
    {
     "data": {
      "text/plain": [
       "const         7.816220e+00\n",
       "Population   -1.936744e-08\n",
       "dtype: float64"
      ]
     },
     "execution_count": 65,
     "metadata": {},
     "output_type": "execute_result"
    }
   ],
   "source": [
    "# fitting garis regresi\n",
    "lr = sm.OLS(y_train, X_train_sm).fit()\n",
    "lr.params"
   ]
  },
  {
   "cell_type": "code",
   "execution_count": 66,
   "metadata": {},
   "outputs": [
    {
     "name": "stderr",
     "output_type": "stream",
     "text": [
      "c:\\Users\\USER\\anaconda3\\lib\\site-packages\\scipy\\stats\\stats.py:1603: UserWarning: kurtosistest only valid for n>=20 ... continuing anyway, n=12\n",
      "  warnings.warn(\"kurtosistest only valid for n>=20 ... continuing \"\n"
     ]
    },
    {
     "data": {
      "text/html": [
       "<table class=\"simpletable\">\n",
       "<caption>OLS Regression Results</caption>\n",
       "<tr>\n",
       "  <th>Dep. Variable:</th>     <td>Fertility Rate</td>  <th>  R-squared:         </th> <td>   0.955</td>\n",
       "</tr>\n",
       "<tr>\n",
       "  <th>Model:</th>                   <td>OLS</td>       <th>  Adj. R-squared:    </th> <td>   0.951</td>\n",
       "</tr>\n",
       "<tr>\n",
       "  <th>Method:</th>             <td>Least Squares</td>  <th>  F-statistic:       </th> <td>   213.9</td>\n",
       "</tr>\n",
       "<tr>\n",
       "  <th>Date:</th>             <td>Mon, 12 Sep 2022</td> <th>  Prob (F-statistic):</th> <td>4.46e-08</td>\n",
       "</tr>\n",
       "<tr>\n",
       "  <th>Time:</th>                 <td>16:34:56</td>     <th>  Log-Likelihood:    </th> <td> -1.0061</td>\n",
       "</tr>\n",
       "<tr>\n",
       "  <th>No. Observations:</th>      <td>    12</td>      <th>  AIC:               </th> <td>   6.012</td>\n",
       "</tr>\n",
       "<tr>\n",
       "  <th>Df Residuals:</th>          <td>    10</td>      <th>  BIC:               </th> <td>   6.982</td>\n",
       "</tr>\n",
       "<tr>\n",
       "  <th>Df Model:</th>              <td>     1</td>      <th>                     </th>     <td> </td>   \n",
       "</tr>\n",
       "<tr>\n",
       "  <th>Covariance Type:</th>      <td>nonrobust</td>    <th>                     </th>     <td> </td>   \n",
       "</tr>\n",
       "</table>\n",
       "<table class=\"simpletable\">\n",
       "<tr>\n",
       "       <td></td>         <th>coef</th>     <th>std err</th>      <th>t</th>      <th>P>|t|</th>  <th>[0.025</th>    <th>0.975]</th>  \n",
       "</tr>\n",
       "<tr>\n",
       "  <th>const</th>      <td>    7.8162</td> <td>    0.216</td> <td>   36.238</td> <td> 0.000</td> <td>    7.336</td> <td>    8.297</td>\n",
       "</tr>\n",
       "<tr>\n",
       "  <th>Population</th> <td>-1.937e-08</td> <td> 1.32e-09</td> <td>  -14.625</td> <td> 0.000</td> <td>-2.23e-08</td> <td>-1.64e-08</td>\n",
       "</tr>\n",
       "</table>\n",
       "<table class=\"simpletable\">\n",
       "<tr>\n",
       "  <th>Omnibus:</th>       <td> 1.590</td> <th>  Durbin-Watson:     </th> <td>   2.349</td>\n",
       "</tr>\n",
       "<tr>\n",
       "  <th>Prob(Omnibus):</th> <td> 0.452</td> <th>  Jarque-Bera (JB):  </th> <td>   0.764</td>\n",
       "</tr>\n",
       "<tr>\n",
       "  <th>Skew:</th>          <td> 0.610</td> <th>  Prob(JB):          </th> <td>   0.682</td>\n",
       "</tr>\n",
       "<tr>\n",
       "  <th>Kurtosis:</th>      <td> 2.805</td> <th>  Cond. No.          </th> <td>4.22e+08</td>\n",
       "</tr>\n",
       "</table><br/><br/>Notes:<br/>[1] Standard Errors assume that the covariance matrix of the errors is correctly specified.<br/>[2] The condition number is large, 4.22e+08. This might indicate that there are<br/>strong multicollinearity or other numerical problems."
      ],
      "text/plain": [
       "<class 'statsmodels.iolib.summary.Summary'>\n",
       "\"\"\"\n",
       "                            OLS Regression Results                            \n",
       "==============================================================================\n",
       "Dep. Variable:         Fertility Rate   R-squared:                       0.955\n",
       "Model:                            OLS   Adj. R-squared:                  0.951\n",
       "Method:                 Least Squares   F-statistic:                     213.9\n",
       "Date:                Mon, 12 Sep 2022   Prob (F-statistic):           4.46e-08\n",
       "Time:                        16:34:56   Log-Likelihood:                -1.0061\n",
       "No. Observations:                  12   AIC:                             6.012\n",
       "Df Residuals:                      10   BIC:                             6.982\n",
       "Df Model:                           1                                         \n",
       "Covariance Type:            nonrobust                                         \n",
       "==============================================================================\n",
       "                 coef    std err          t      P>|t|      [0.025      0.975]\n",
       "------------------------------------------------------------------------------\n",
       "const          7.8162      0.216     36.238      0.000       7.336       8.297\n",
       "Population -1.937e-08   1.32e-09    -14.625      0.000   -2.23e-08   -1.64e-08\n",
       "==============================================================================\n",
       "Omnibus:                        1.590   Durbin-Watson:                   2.349\n",
       "Prob(Omnibus):                  0.452   Jarque-Bera (JB):                0.764\n",
       "Skew:                           0.610   Prob(JB):                        0.682\n",
       "Kurtosis:                       2.805   Cond. No.                     4.22e+08\n",
       "==============================================================================\n",
       "\n",
       "Notes:\n",
       "[1] Standard Errors assume that the covariance matrix of the errors is correctly specified.\n",
       "[2] The condition number is large, 4.22e+08. This might indicate that there are\n",
       "strong multicollinearity or other numerical problems.\n",
       "\"\"\""
      ]
     },
     "execution_count": 66,
     "metadata": {},
     "output_type": "execute_result"
    }
   ],
   "source": [
    "# analisis statistika dari garis regresi\n",
    "lr.summary()"
   ]
  },
  {
   "cell_type": "code",
   "execution_count": 67,
   "metadata": {},
   "outputs": [
    {
     "data": {
      "image/png": "[encoded data removed]",
      "text/plain": [
       "<Figure size 432x288 with 1 Axes>"
      ]
     },
     "metadata": {
      "needs_background": "light"
     },
     "output_type": "display_data"
    }
   ],
   "source": [
    "# visualisasi garis regresi\n",
    "plt.scatter(X_train, y_train)\n",
    "plt.plot(X_train, 7.8162 + -1.937e-08*X_train, 'r')\n",
    "plt.show()"
   ]
  },
  {
   "cell_type": "markdown",
   "metadata": {},
   "source": [
    "### Residual Analysis\n",
    "dipakai untuk mengetahui tingkat error dari variabel yang dipengaruhi (y)\n",
    "\n",
    "Error = Actual y value - y predicted value"
   ]
  },
  {
   "cell_type": "code",
   "execution_count": 68,
   "metadata": {},
   "outputs": [],
   "source": [
    "# prediksi y_value dari data x yang telah dilatih\n",
    "y_train_pred = lr.predict(X_train_sm)\n",
    "\n",
    "res = (y_train - y_train_pred)"
   ]
  },
  {
   "cell_type": "code",
   "execution_count": 69,
   "metadata": {},
   "outputs": [
    {
     "name": "stderr",
     "output_type": "stream",
     "text": [
      "c:\\Users\\USER\\anaconda3\\lib\\site-packages\\seaborn\\distributions.py:2557: FutureWarning: `distplot` is a deprecated function and will be removed in a future version. Please adapt your code to use either `displot` (a figure-level function with similar flexibility) or `histplot` (an axes-level function for histograms).\n",
      "  warnings.warn(msg, FutureWarning)\n"
     ]
    },
    {
     "data": {
      "image/png": "[encoded data removed]",
      "text/plain": [
       "<Figure size 432x288 with 1 Axes>"
      ]
     },
     "metadata": {
      "needs_background": "light"
     },
     "output_type": "display_data"
    }
   ],
   "source": [
    "# cek histogram apakah berdistribusi normal atau tidak\n",
    "fig = plt.figure()\n",
    "sns.distplot(res, bins = 15)\n",
    "plt.title('Error Terms', fontsize = 15)\n",
    "plt.xlabel('y_train - y_train_pred', fontsize = 15)\n",
    "plt.show()"
   ]
  },
  {
   "cell_type": "code",
   "execution_count": 70,
   "metadata": {},
   "outputs": [
    {
     "data": {
      "image/png": "[encoded data removed]",
      "text/plain": [
       "<Figure size 432x288 with 1 Axes>"
      ]
     },
     "metadata": {
      "needs_background": "light"
     },
     "output_type": "display_data"
    }
   ],
   "source": [
    "plt.scatter(X_train,res)\n",
    "plt.show()"
   ]
  },
  {
   "cell_type": "code",
   "execution_count": 71,
   "metadata": {},
   "outputs": [
    {
     "data": {
      "text/plain": [
       "9     5.418979\n",
       "11    6.030706\n",
       "16    6.944904\n",
       "13    6.522148\n",
       "1     3.621904\n",
       "dtype: float64"
      ]
     },
     "execution_count": 71,
     "metadata": {},
     "output_type": "execute_result"
    }
   ],
   "source": [
    "# prediksi pada data uji dan evaluasi model\n",
    "X_test_sm = sm.add_constant(X_test)\n",
    "\n",
    "# prediksi y value yang berkorelasi dengan X_test_sm\n",
    "y_test_pred = lr.predict(X_test_sm)\n",
    "\n",
    "# cetak 5 data terprediksi teratas\n",
    "y_test_pred.head()"
   ]
  },
  {
   "cell_type": "code",
   "execution_count": 72,
   "metadata": {},
   "outputs": [
    {
     "data": {
      "text/plain": [
       "0.9058611061543146"
      ]
     },
     "execution_count": 72,
     "metadata": {},
     "output_type": "execute_result"
    }
   ],
   "source": [
    "# hitung nilai r^2\n",
    "from sklearn.metrics import r2_score\n",
    "\n",
    "r_squared = r2_score(y_test, y_test_pred)\n",
    "r_squared"
   ]
  },
  {
   "cell_type": "markdown",
   "metadata": {},
   "source": [
    "perlu diperhatikan bahwa r^2 dari data trainign adalah 0.669 sedangkan dari data testing adalah 0,612. Hal ini berarti model yang dibentuk cukup stabil (tidak berselisih jauh antara training dengan testing)"
   ]
  },
  {
   "cell_type": "code",
   "execution_count": 73,
   "metadata": {},
   "outputs": [
    {
     "data": {
      "image/png": "[encoded data removed]",
      "text/plain": [
       "<Figure size 432x288 with 1 Axes>"
      ]
     },
     "metadata": {
      "needs_background": "light"
     },
     "output_type": "display_data"
    }
   ],
   "source": [
    "# visualisasi data\n",
    "plt.scatter(X_test, y_test)\n",
    "plt.plot(X_test, y_test_pred, 'r')\n",
    "plt.show()"
   ]
  },
  {
   "cell_type": "code",
   "execution_count": 74,
   "metadata": {},
   "outputs": [],
   "source": [
    "xbaru = data[['Population', 'World Population']]\n",
    "ybaru = data['Fertility Rate']"
   ]
  },
  {
   "cell_type": "code",
   "execution_count": 75,
   "metadata": {},
   "outputs": [],
   "source": [
    "xConst = sm.add_constant(xbaru)"
   ]
  },
  {
   "cell_type": "code",
   "execution_count": 76,
   "metadata": {},
   "outputs": [
    {
     "name": "stdout",
     "output_type": "stream",
     "text": [
      "                            OLS Regression Results                            \n",
      "==============================================================================\n",
      "Dep. Variable:         Fertility Rate   R-squared:                       0.988\n",
      "Model:                            OLS   Adj. R-squared:                  0.986\n",
      "Method:                 Least Squares   F-statistic:                     609.2\n",
      "Date:                Mon, 12 Sep 2022   Prob (F-statistic):           4.34e-15\n",
      "Time:                        16:36:09   Log-Likelihood:                 9.6317\n",
      "No. Observations:                  18   AIC:                            -13.26\n",
      "Df Residuals:                      15   BIC:                            -10.59\n",
      "Df Model:                           2                                         \n",
      "Covariance Type:            nonrobust                                         \n",
      "====================================================================================\n",
      "                       coef    std err          t      P>|t|      [0.025      0.975]\n",
      "------------------------------------------------------------------------------------\n",
      "const                5.4319      0.373     14.569      0.000       4.637       6.227\n",
      "Population       -4.785e-08    4.4e-09    -10.869      0.000   -5.72e-08   -3.85e-08\n",
      "World Population  1.094e-09   1.66e-10      6.578      0.000     7.4e-10    1.45e-09\n",
      "==============================================================================\n",
      "Omnibus:                        0.793   Durbin-Watson:                   0.497\n",
      "Prob(Omnibus):                  0.673   Jarque-Bera (JB):                0.758\n",
      "Skew:                          -0.274   Prob(JB):                        0.685\n",
      "Kurtosis:                       2.158   Cond. No.                     6.07e+10\n",
      "==============================================================================\n",
      "\n",
      "Notes:\n",
      "[1] Standard Errors assume that the covariance matrix of the errors is correctly specified.\n",
      "[2] The condition number is large, 6.07e+10. This might indicate that there are\n",
      "strong multicollinearity or other numerical problems.\n"
     ]
    },
    {
     "name": "stderr",
     "output_type": "stream",
     "text": [
      "c:\\Users\\USER\\anaconda3\\lib\\site-packages\\scipy\\stats\\stats.py:1603: UserWarning: kurtosistest only valid for n>=20 ... continuing anyway, n=18\n",
      "  warnings.warn(\"kurtosistest only valid for n>=20 ... continuing \"\n"
     ]
    }
   ],
   "source": [
    "model = sm.OLS(ybaru, xConst).fit()\n",
    "predictions = model.predict(xConst)\n",
    "\n",
    "print_model = model.summary()\n",
    "print(print_model)"
   ]
  }
 ],
 "metadata": {
  "kernelspec": {
   "display_name": "Python 3.8.8 ('base')",
   "language": "python",
   "name": "python3"
  },
  "language_info": {
   "codemirror_mode": {
    "name": "ipython",
    "version": 3
   },
   "file_extension": ".py",
   "mimetype": "text/x-python",
   "name": "python",
   "nbconvert_exporter": "python",
   "pygments_lexer": "ipython3",
   "version": "3.8.8"
  },
  "orig_nbformat": 4,
  "vscode": {
   "interpreter": {
    "hash": "263930470851f494f0ed2879c35b57985588df20f9e529b86e97dd5eb9ddc466"
   }
  }
 },
 "nbformat": 4,
 "nbformat_minor": 2
}
