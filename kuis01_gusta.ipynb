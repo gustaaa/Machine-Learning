{
 "cells": [
  {
   "cell_type": "markdown",
   "metadata": {},
   "source": [
    "# **Laporan Proyek Machine Learning - Gustania Nirmala Meisi**"
   ]
  },
  {
   "cell_type": "markdown",
   "metadata": {},
   "source": [
    "## **Soal:**\n",
    "\n",
    "Asuransi kesehatan adalah salah satu hal yang patut diperhatikan karena bersangkutan dengan kebutuhan perencanaan masa depan. Pengguna asuransi kesehatan diwajibkan untuk membayar besaran uang secara rutin (premi) kepada pihak perusahaan asuransi. Premi tersebut diolah oleh perusahaan asuransi untuk membayarkan tagihan kesehatan pengguna yang tertanggung. Penentuan nilai premi menjadi tantangan tersendiri bagi pihak asuransi mengingat ada banyak faktor yang dapat mempengaruhi & meningkatkan profil resiko pengguna.\n",
    "\n",
    "Lakukan analisis variable-variabel yang memiliki hubungan dengan tagihan kesehatan yang diterima oleh setiap pengguna. Anda akan diberikan data yang berisi data personal pengguna seperti umur, gender, tempat tinggal pengguna, banyak anak tertanggung asuransi, nilai bmi, keadaan merokok atau tidaknya pengguna.\n",
    "\n",
    "Dataset:\n",
    "* age: umur\n",
    "* sex: jenis kelamin\n",
    "* BMI: body mass index, rasio tinggi badan terhadap berat badan\n",
    "* children: jumlah anak yang tercover asuransi\n",
    "* smoker: status dia merokok atau tidak\n",
    "* region: wilayah asal\n",
    "* charges: biaya perawatan\n",
    "\n",
    "**Soal nomor 1 : <br>Pilih 5 dari 10 pertanyaan**\n",
    "\n",
    "1. Rata-rata umur pengguna\n",
    "\n",
    "2. Rata-rata nilai BMI dari pengguna yang merokok\n",
    "\n",
    "3. Berapa rata rata umur pada data tersebut?\n",
    "\n",
    "4. Berapa rata rata nilai BMI dari yang merokok?\n",
    "\n",
    "5. Apakah variansi dari data charges perokok dan non perokok sama?\n",
    "\n",
    "6. Apakah rata rata umur perempuan dan laki-laki yang merokok sama?\n",
    "\n",
    "7. Mana yang lebih tinggi, rata rata tagihan kesehatan perokok atau non merokok?\n",
    "\n",
    "8. Mana yang lebih tinggi, rata rata tagihan kesehatan perokok yang BMI nya diatas 25 atau non perokok yang BMI nya diatas 25\n",
    "\n",
    "9. BMI mana yang lebih tinggi, seseorang laki-laki atau perempuan?\n",
    "\n",
    "10. BMI mana yang lebih tinggi, seseorang perokok atau non perokok?\n",
    "\n",
    "**Soal nomor 2: <br>Pilih 5 dari 7 pertanyaan**\n",
    "\n",
    "\n",
    "1. Gender mana yang memiliki tagihan paling tinggi?\n",
    "\n",
    "2. Distribusi peluang tagihan di tiap-tiap region\n",
    "\n",
    "3. Apakah setiap region memiliki proporsi data banyak orang yang sama?\n",
    "\n",
    "4. Mana yang lebih tinggi proporsi perokok atau non perokok?\n",
    "\n",
    "5. Berapa peluang seseorang tersebut adalah perempuan diketahui dia adalah perokok?\n",
    "\n",
    "6. Berapa peluang seseorang tersebut adalah laki-laki diketahui dia adalah perokok?\n",
    "\n",
    "7. Bagaimana bentuk distribusi tagihan dari tiap-tiap region?\n",
    "\n",
    "**Soal nomor 3: <br>Kerjakan semuanya**\n",
    "\n",
    "1. Mencari peluang besar tagihan berdasarkan BMI\n",
    "\n",
    "2. Mencari kemungkin terjadi, seorang perokok dengan BMI diatas 25 akan mendapatkan tagihan kesehatan di atas 16.700.\n",
    "\n",
    "3. Berapa peluang seseorang acak tagihan kesehatannya diatas 16.7k diketahui dia adalah perokok\n",
    "\n",
    "4. Mana yang lebih mungkin terjadi\n",
    "\n",
    "* Seseorang dengan BMI diatas 25 mendapatkan tagihan kesehatan diatas 16.7k, atau\n",
    "\n",
    "* Seseorang dengan BMI dibawah 25 mendapatkan tagihan kesehatan diatas 16.7k\n",
    "\n",
    "5. Mana yang lebih mungkin terjadi\n",
    "\n",
    "* Seseorang perokok dengan BMI diatas 25 mendapatkan tagihan kesehatan diatas 16.7k, atau\n",
    "\n",
    "* Seseorang non perokok dengan BMI diatas 25 mendapatkan tagihan kesehatan diatas 16.7k"
   ]
  },
  {
   "cell_type": "markdown",
   "metadata": {},
   "source": [
    "### **JAWABAN**"
   ]
  },
  {
   "cell_type": "code",
   "execution_count": 2,
   "metadata": {},
   "outputs": [
    {
     "name": "stdout",
     "output_type": "stream",
     "text": [
      "      age     sex     bmi  children smoker     region      charges\n",
      "0      19  female  27.900         0    yes  southwest  16884.92400\n",
      "1      18    male  33.770         1     no  southeast   1725.55230\n",
      "2      28    male  33.000         3     no  southeast   4449.46200\n",
      "3      33    male  22.705         0     no  northwest  21984.47061\n",
      "4      32    male  28.880         0     no  northwest   3866.85520\n",
      "...   ...     ...     ...       ...    ...        ...          ...\n",
      "1333   50    male  30.970         3     no  northwest  10600.54830\n",
      "1334   18  female  31.920         0     no  northeast   2205.98080\n",
      "1335   18  female  36.850         0     no  southeast   1629.83350\n",
      "1336   21  female  25.800         0     no  southwest   2007.94500\n",
      "1337   61  female  29.070         0    yes  northwest  29141.36030\n",
      "\n",
      "[1338 rows x 7 columns]\n"
     ]
    }
   ],
   "source": [
    "import pandas as pd #dataframe\n",
    "import numpy as np #komputasi numerik\n",
    "#visualisasi\n",
    "import matplotlib.pyplot as plt \n",
    "import seaborn as sns \n",
    "data = pd.read_csv('insurance 2.csv')\n",
    "print(data)"
   ]
  },
  {
   "cell_type": "markdown",
   "metadata": {},
   "source": [
    "**Analisis Deskriptif**"
   ]
  },
  {
   "cell_type": "code",
   "execution_count": 2,
   "metadata": {},
   "outputs": [
    {
     "data": {
      "text/html": [
       "<div>\n",
       "<style scoped>\n",
       "    .dataframe tbody tr th:only-of-type {\n",
       "        vertical-align: middle;\n",
       "    }\n",
       "\n",
       "    .dataframe tbody tr th {\n",
       "        vertical-align: top;\n",
       "    }\n",
       "\n",
       "    .dataframe thead th {\n",
       "        text-align: right;\n",
       "    }\n",
       "</style>\n",
       "<table border=\"1\" class=\"dataframe\">\n",
       "  <thead>\n",
       "    <tr style=\"text-align: right;\">\n",
       "      <th></th>\n",
       "      <th>age</th>\n",
       "      <th>bmi</th>\n",
       "      <th>children</th>\n",
       "      <th>charges</th>\n",
       "    </tr>\n",
       "  </thead>\n",
       "  <tbody>\n",
       "    <tr>\n",
       "      <th>count</th>\n",
       "      <td>1338.000000</td>\n",
       "      <td>1338.000000</td>\n",
       "      <td>1338.000000</td>\n",
       "      <td>1338.000000</td>\n",
       "    </tr>\n",
       "    <tr>\n",
       "      <th>mean</th>\n",
       "      <td>39.207025</td>\n",
       "      <td>30.663397</td>\n",
       "      <td>1.094918</td>\n",
       "      <td>13270.422265</td>\n",
       "    </tr>\n",
       "    <tr>\n",
       "      <th>std</th>\n",
       "      <td>14.049960</td>\n",
       "      <td>6.098187</td>\n",
       "      <td>1.205493</td>\n",
       "      <td>12110.011237</td>\n",
       "    </tr>\n",
       "    <tr>\n",
       "      <th>min</th>\n",
       "      <td>18.000000</td>\n",
       "      <td>15.960000</td>\n",
       "      <td>0.000000</td>\n",
       "      <td>1121.873900</td>\n",
       "    </tr>\n",
       "    <tr>\n",
       "      <th>25%</th>\n",
       "      <td>27.000000</td>\n",
       "      <td>26.296250</td>\n",
       "      <td>0.000000</td>\n",
       "      <td>4740.287150</td>\n",
       "    </tr>\n",
       "    <tr>\n",
       "      <th>50%</th>\n",
       "      <td>39.000000</td>\n",
       "      <td>30.400000</td>\n",
       "      <td>1.000000</td>\n",
       "      <td>9382.033000</td>\n",
       "    </tr>\n",
       "    <tr>\n",
       "      <th>75%</th>\n",
       "      <td>51.000000</td>\n",
       "      <td>34.693750</td>\n",
       "      <td>2.000000</td>\n",
       "      <td>16639.912515</td>\n",
       "    </tr>\n",
       "    <tr>\n",
       "      <th>max</th>\n",
       "      <td>64.000000</td>\n",
       "      <td>53.130000</td>\n",
       "      <td>5.000000</td>\n",
       "      <td>63770.428010</td>\n",
       "    </tr>\n",
       "  </tbody>\n",
       "</table>\n",
       "</div>"
      ],
      "text/plain": [
       "               age          bmi     children       charges\n",
       "count  1338.000000  1338.000000  1338.000000   1338.000000\n",
       "mean     39.207025    30.663397     1.094918  13270.422265\n",
       "std      14.049960     6.098187     1.205493  12110.011237\n",
       "min      18.000000    15.960000     0.000000   1121.873900\n",
       "25%      27.000000    26.296250     0.000000   4740.287150\n",
       "50%      39.000000    30.400000     1.000000   9382.033000\n",
       "75%      51.000000    34.693750     2.000000  16639.912515\n",
       "max      64.000000    53.130000     5.000000  63770.428010"
      ]
     },
     "execution_count": 2,
     "metadata": {},
     "output_type": "execute_result"
    }
   ],
   "source": [
    "data.describe()"
   ]
  },
  {
   "cell_type": "markdown",
   "metadata": {},
   "source": [
    "**Dataset Detail**"
   ]
  },
  {
   "cell_type": "code",
   "execution_count": 3,
   "metadata": {},
   "outputs": [
    {
     "name": "stdout",
     "output_type": "stream",
     "text": [
      "<class 'pandas.core.frame.DataFrame'>\n",
      "RangeIndex: 1338 entries, 0 to 1337\n",
      "Data columns (total 7 columns):\n",
      " #   Column    Non-Null Count  Dtype  \n",
      "---  ------    --------------  -----  \n",
      " 0   age       1338 non-null   int64  \n",
      " 1   sex       1338 non-null   object \n",
      " 2   bmi       1338 non-null   float64\n",
      " 3   children  1338 non-null   int64  \n",
      " 4   smoker    1338 non-null   object \n",
      " 5   region    1338 non-null   object \n",
      " 6   charges   1338 non-null   float64\n",
      "dtypes: float64(2), int64(2), object(3)\n",
      "memory usage: 73.3+ KB\n"
     ]
    }
   ],
   "source": [
    "data.info()"
   ]
  },
  {
   "cell_type": "markdown",
   "metadata": {},
   "source": [
    "**Kategori Setiap Kolom**"
   ]
  },
  {
   "cell_type": "code",
   "execution_count": 8,
   "metadata": {},
   "outputs": [
    {
     "name": "stdout",
     "output_type": "stream",
     "text": [
      "southeast    364\n",
      "southwest    325\n",
      "northwest    325\n",
      "northeast    324\n",
      "Name: region, dtype: int64\n"
     ]
    },
    {
     "data": {
      "image/png": "[encoded data removed]",
      "text/plain": [
       "<Figure size 432x288 with 1 Axes>"
      ]
     },
     "metadata": {
      "needs_background": "light"
     },
     "output_type": "display_data"
    }
   ],
   "source": [
    "print(data['region'].value_counts())\n",
    "data['region'].value_counts().plot(kind='bar', title='region');"
   ]
  },
  {
   "cell_type": "code",
   "execution_count": 9,
   "metadata": {},
   "outputs": [
    {
     "name": "stdout",
     "output_type": "stream",
     "text": [
      "male      676\n",
      "female    662\n",
      "Name: sex, dtype: int64\n"
     ]
    },
    {
     "data": {
      "image/png": "[encoded data removed]",
      "text/plain": [
       "<Figure size 432x288 with 1 Axes>"
      ]
     },
     "metadata": {
      "needs_background": "light"
     },
     "output_type": "display_data"
    }
   ],
   "source": [
    "print(data['sex'].value_counts())\n",
    "data['sex'].value_counts().plot(kind='bar', title='sex');"
   ]
  },
  {
   "cell_type": "code",
   "execution_count": 10,
   "metadata": {},
   "outputs": [
    {
     "name": "stdout",
     "output_type": "stream",
     "text": [
      "no     1064\n",
      "yes     274\n",
      "Name: smoker, dtype: int64\n"
     ]
    },
    {
     "data": {
      "image/png": "[encoded data removed]",
      "text/plain": [
       "<Figure size 432x288 with 1 Axes>"
      ]
     },
     "metadata": {
      "needs_background": "light"
     },
     "output_type": "display_data"
    }
   ],
   "source": [
    "print(data['smoker'].value_counts())\n",
    "data['smoker'].value_counts().plot(kind='bar', title='smoker');"
   ]
  },
  {
   "cell_type": "markdown",
   "metadata": {},
   "source": [
    "-----------------------------------------------------------------\n",
    "**Soal nomor 1 :**\n",
    "\n",
    "1. Rata-rata umur pengguna\n"
   ]
  },
  {
   "cell_type": "code",
   "execution_count": 51,
   "metadata": {},
   "outputs": [
    {
     "name": "stdout",
     "output_type": "stream",
     "text": [
      "Rata-rata umur pengguna :  39.20702541106129\n"
     ]
    }
   ],
   "source": [
    "print('Rata-rata umur pengguna : ',data[\"age\"].mean())"
   ]
  },
  {
   "cell_type": "markdown",
   "metadata": {},
   "source": [
    "2. Rata-rata nilai BMI dari pengguna yang merokok"
   ]
  },
  {
   "cell_type": "code",
   "execution_count": 78,
   "metadata": {},
   "outputs": [
    {
     "name": "stdout",
     "output_type": "stream",
     "text": [
      "Rata-rata nilai BMI dari pengguna yang merokok adalah 30.651795\n"
     ]
    },
    {
     "data": {
      "text/plain": [
       "smoker\n",
       "0    30.651795\n",
       "Name: bmi, dtype: float64"
      ]
     },
     "execution_count": 78,
     "metadata": {},
     "output_type": "execute_result"
    }
   ],
   "source": [
    "perokok = data[(data['smoker'] == 0)]\n",
    "print('Rata-rata nilai BMI dari pengguna yang merokok adalah 30.651795')\n",
    "perokok.groupby([\"smoker\"])[\"bmi\"].mean()"
   ]
  },
  {
   "cell_type": "markdown",
   "metadata": {},
   "source": [
    "3. Apakah rata rata umur perempuan dan laki-laki yang merokok sama?"
   ]
  },
  {
   "cell_type": "code",
   "execution_count": 77,
   "metadata": {},
   "outputs": [
    {
     "name": "stdout",
     "output_type": "stream",
     "text": [
      "Rata-rata umur perempuan dan laki-laki yang merokok hampir sama \n",
      "Laki-laki adalah 39.061896\n",
      "Perempuan adalah 39.691042\n"
     ]
    },
    {
     "data": {
      "text/plain": [
       "sex  smoker\n",
       "0    0         39.691042\n",
       "1    0         39.061896\n",
       "Name: age, dtype: float64"
      ]
     },
     "execution_count": 77,
     "metadata": {},
     "output_type": "execute_result"
    }
   ],
   "source": [
    "perokok = data[(data['smoker'] == 0)] # yes = 0\n",
    "perempuan = data[(data['sex'] == 0)] #perempuan = 0\n",
    "laki_laki = data[(data['sex'] == 1)] #laki-laki = 1\n",
    "print('Rata-rata umur perempuan dan laki-laki yang merokok hampir sama \\nLaki-laki adalah 39.061896\\nPerempuan adalah 39.691042')\n",
    "perokok.groupby([\"sex\",\"smoker\"])[\"age\"].mean()"
   ]
  },
  {
   "cell_type": "markdown",
   "metadata": {},
   "source": [
    "4. Mana yang lebih tinggi, rata rata tagihan kesehatan perokok atau non merokok?"
   ]
  },
  {
   "cell_type": "code",
   "execution_count": 80,
   "metadata": {},
   "outputs": [
    {
     "name": "stdout",
     "output_type": "stream",
     "text": [
      "Rata-rata tagihan kesehatan perokok antara non merokok lebih tinggi Perokok\n",
      "Rata-rata tagihan Perokok 8434.268298\n",
      "Rata-rata tagihan Bukan Perokok 32050.231832\n"
     ]
    },
    {
     "data": {
      "text/plain": [
       "smoker\n",
       "0     8434.268298\n",
       "1    32050.231832\n",
       "Name: charges, dtype: float64"
      ]
     },
     "execution_count": 80,
     "metadata": {},
     "output_type": "execute_result"
    }
   ],
   "source": [
    "print('Rata-rata tagihan kesehatan perokok antara non merokok lebih tinggi Perokok')\n",
    "print('Rata-rata tagihan Perokok 8434.268298')#perokok = 0\n",
    "print('Rata-rata tagihan Bukan Perokok 32050.231832')#bukan perokok = 1\n",
    "data.groupby([\"smoker\"])[\"charges\"].mean()"
   ]
  },
  {
   "cell_type": "markdown",
   "metadata": {},
   "source": [
    "5. BMI mana yang lebih tinggi, seseorang laki-laki atau perempuan?"
   ]
  },
  {
   "cell_type": "code",
   "execution_count": 81,
   "metadata": {},
   "outputs": [
    {
     "name": "stdout",
     "output_type": "stream",
     "text": [
      "BMI antara seseorang laki-laki dengan perempuan yang lebih tinggi adalah laki-laki\n",
      "BMI dari Laki-laki adalah 53.13\n",
      "BMI dari Perempuan adalah 48.07\n"
     ]
    },
    {
     "data": {
      "text/plain": [
       "sex\n",
       "0    48.07\n",
       "1    53.13\n",
       "Name: bmi, dtype: float64"
      ]
     },
     "execution_count": 81,
     "metadata": {},
     "output_type": "execute_result"
    }
   ],
   "source": [
    "print('BMI antara seseorang laki-laki dengan perempuan yang lebih tinggi adalah laki-laki')\n",
    "print('BMI dari Laki-laki adalah 53.13')#laki-laki = 1\n",
    "print('BMI dari Perempuan adalah 48.07')#perempuan = 0\n",
    "data.groupby([\"sex\"])[\"bmi\"].max()"
   ]
  },
  {
   "cell_type": "markdown",
   "metadata": {},
   "source": [
    "6. BMI mana yang lebih tinggi, seseorang perokok atau non perokok?"
   ]
  },
  {
   "cell_type": "code",
   "execution_count": 84,
   "metadata": {},
   "outputs": [
    {
     "name": "stdout",
     "output_type": "stream",
     "text": [
      "BMI antara seseorang perokok dengan non perokok yang lebih tinggi adalah non perokok\n",
      "BMI dari non perokok adalah 53.13\n",
      "BMI dari perokok adalah 52.58\n"
     ]
    },
    {
     "data": {
      "text/plain": [
       "smoker\n",
       "0    53.13\n",
       "1    52.58\n",
       "Name: bmi, dtype: float64"
      ]
     },
     "execution_count": 84,
     "metadata": {},
     "output_type": "execute_result"
    }
   ],
   "source": [
    "print('BMI antara seseorang perokok dengan non perokok yang lebih tinggi adalah non perokok')\n",
    "print('BMI dari non perokok adalah 53.13')#bukan perokok = 0\n",
    "print('BMI dari perokok adalah 52.58')#perokok = 1\n",
    "data.groupby([\"smoker\"])[\"bmi\"].max()"
   ]
  },
  {
   "cell_type": "markdown",
   "metadata": {},
   "source": [
    "7. Berapa rata rata nilai BMI dari yang merokok?"
   ]
  },
  {
   "cell_type": "code",
   "execution_count": 85,
   "metadata": {},
   "outputs": [
    {
     "name": "stdout",
     "output_type": "stream",
     "text": [
      "Rata-rata nilai BMI yang merokok adalah 30.651795\n"
     ]
    },
    {
     "data": {
      "text/plain": [
       "smoker\n",
       "0    30.651795\n",
       "Name: bmi, dtype: float64"
      ]
     },
     "execution_count": 85,
     "metadata": {},
     "output_type": "execute_result"
    }
   ],
   "source": [
    "perokok = data[(data['smoker'] == 0)]\n",
    "print('Rata-rata nilai BMI yang merokok adalah 30.651795')\n",
    "perokok.groupby([\"smoker\"])[\"bmi\"].mean()"
   ]
  },
  {
   "cell_type": "markdown",
   "metadata": {},
   "source": [
    "8. Berapa rata rata umur pada data tersebut?"
   ]
  },
  {
   "cell_type": "code",
   "execution_count": 86,
   "metadata": {},
   "outputs": [
    {
     "name": "stdout",
     "output_type": "stream",
     "text": [
      "Rata-rata umur pada data tersebut adalah  39.20702541106129\n"
     ]
    }
   ],
   "source": [
    "print('Rata-rata umur pada data tersebut adalah ',data[\"age\"].mean())"
   ]
  },
  {
   "cell_type": "markdown",
   "metadata": {},
   "source": [
    "-----------------------------------------------------------------------------------------------------\n",
    "**Soal nomor 2:**\n",
    "\n",
    "1. Gender mana yang memiliki tagihan paling tinggi??"
   ]
  },
  {
   "cell_type": "code",
   "execution_count": 87,
   "metadata": {},
   "outputs": [
    {
     "name": "stdout",
     "output_type": "stream",
     "text": [
      "Gender yang memiliki tagihan paling tinggi adalah Perempuan\n",
      "Tagihan perempuan adalah 63770.42801\n",
      "Tagihan laki-laki adalah 62592.87309\n"
     ]
    },
    {
     "data": {
      "text/plain": [
       "sex\n",
       "0    63770.42801\n",
       "1    62592.87309\n",
       "Name: charges, dtype: float64"
      ]
     },
     "execution_count": 87,
     "metadata": {},
     "output_type": "execute_result"
    }
   ],
   "source": [
    "print('Gender yang memiliki tagihan paling tinggi adalah Perempuan')\n",
    "print('Tagihan perempuan adalah 63770.42801')#perempuan = 0\n",
    "print('Tagihan laki-laki adalah 62592.87309')#laki-laki = 1\n",
    "data.groupby([\"sex\"])[\"charges\"].max()"
   ]
  },
  {
   "cell_type": "markdown",
   "metadata": {},
   "source": [
    "2. Berapa peluang seseorang tersebut adalah perempuan diketahui dia adalah perokok?"
   ]
  },
  {
   "cell_type": "code",
   "execution_count": 36,
   "metadata": {},
   "outputs": [
    {
     "name": "stdout",
     "output_type": "stream",
     "text": [
      "Jumlah Perokok adalah :  0.8262839879154078\n",
      "Jumlah Bukan Perokok adalah :  0.17371601208459214\n"
     ]
    }
   ],
   "source": [
    "df = pd.DataFrame(data)\n",
    "\n",
    "\n",
    "from sklearn.preprocessing import LabelEncoder\n",
    "\n",
    "# Inisiasi label encoder\n",
    "encode = LabelEncoder()\n",
    "\n",
    "df['sex'] = encode.fit_transform(df['sex'])\n",
    "df['smoker'] = encode.fit_transform(df['smoker'])\n",
    "\n",
    "# P(S) = n(A)/n(S)\n",
    "female = df[(df['sex'] == 0)]\n",
    "jumlah_female = female['sex'].count()\n",
    "perokok = female[(female['smoker']==0)]\n",
    "bukan_perokok = female[(female['smoker']==1)]\n",
    "\n",
    "jumlah_perokok = perokok['smoker'].count()\n",
    "jumlah_bukan_perokok = bukan_perokok['smoker'].count()\n",
    "\n",
    "print('Jumlah Perokok adalah : ',jumlah_perokok/jumlah_female)\n",
    "print('Jumlah Bukan Perokok adalah : ',jumlah_bukan_perokok/jumlah_female)"
   ]
  },
  {
   "cell_type": "markdown",
   "metadata": {},
   "source": [
    "3. Berapa peluang seseorang tersebut adalah laki-laki diketahui dia adalah perokok?"
   ]
  },
  {
   "cell_type": "code",
   "execution_count": 37,
   "metadata": {},
   "outputs": [
    {
     "name": "stdout",
     "output_type": "stream",
     "text": [
      "Jumlah Perokok adalah :  0.764792899408284\n",
      "Jumlah Bukan Perokok adalah :  0.23520710059171598\n"
     ]
    }
   ],
   "source": [
    "df = pd.DataFrame(data)\n",
    "\n",
    "\n",
    "from sklearn.preprocessing import LabelEncoder\n",
    "\n",
    "# Inisiasi label encoder\n",
    "encode = LabelEncoder()\n",
    "\n",
    "df['sex'] = encode.fit_transform(df['sex'])\n",
    "df['smoker'] = encode.fit_transform(df['smoker'])\n",
    "\n",
    "# P(S) = n(A)/n(S)\n",
    "male = df[(df['sex'] == 1)]\n",
    "jumlah_male = male['sex'].count()\n",
    "perokok = male[(male['smoker']==0)]\n",
    "bukan_perokok = male[(male['smoker']==1)]\n",
    "\n",
    "jumlah_perokok = perokok['smoker'].count()\n",
    "jumlah_bukan_perokok = bukan_perokok['smoker'].count()\n",
    "\n",
    "print('Jumlah Perokok adalah : ',jumlah_perokok/jumlah_male)\n",
    "print('Jumlah Bukan Perokok adalah : ',jumlah_bukan_perokok/jumlah_male)"
   ]
  },
  {
   "cell_type": "markdown",
   "metadata": {},
   "source": [
    "4. Mana yang lebih tinggi proporsi perokok atau non perokok?"
   ]
  },
  {
   "cell_type": "code",
   "execution_count": 41,
   "metadata": {},
   "outputs": [
    {
     "name": "stdout",
     "output_type": "stream",
     "text": [
      "Smoker (YES) :  0.37915157018983286\n",
      "Smoker (NO) :  0.42444224142403914\n"
     ]
    }
   ],
   "source": [
    "data['smoker']\n",
    "varian_smoker = data.groupby('sex')['smoker'].std()\n",
    "\n",
    "print('Smoker (YES) : ', varian_smoker[0])\n",
    "print('Smoker (NO) : ', varian_smoker[1])"
   ]
  },
  {
   "cell_type": "markdown",
   "metadata": {},
   "source": [
    "5. Apakah setiap region memiliki proporsi data banyak orang yang sama?"
   ]
  },
  {
   "cell_type": "code",
   "execution_count": 40,
   "metadata": {},
   "outputs": [
    {
     "name": "stdout",
     "output_type": "stream",
     "text": [
      "Region (northeast) :  0.5007638548546987\n",
      "Region (northwest) :  0.5007496754036933\n",
      "Region (southeast) :  0.5003177629809157\n",
      "Region (soutwest) :  0.5007686399618396\n",
      "\n",
      "Dari : \n"
     ]
    },
    {
     "data": {
      "image/png": "[encoded data removed]",
      "text/plain": [
       "<Figure size 432x288 with 1 Axes>"
      ]
     },
     "metadata": {
      "needs_background": "light"
     },
     "output_type": "display_data"
    }
   ],
   "source": [
    "data['region'] = encode.fit_transform(data['region'])\n",
    "data['sex'] = encode.fit_transform(data['sex'])\n",
    "varian_region = df.groupby('region')['sex'].std()\n",
    "\n",
    "print('Region (northeast) : ', varian_region[0])\n",
    "print('Region (northwest) : ', varian_region[1])\n",
    "print('Region (southeast) : ', varian_region[2])\n",
    "print('Region (soutwest) : ', varian_region[3])\n",
    "print('\\nDari : ')\n",
    "\n",
    "name = ['Region(northeast)', 'Region (northwest)', 'Region(southeast)', 'Region(soutwest)']\n",
    "values = [varian_region[0]*100, varian_region[1]*100, varian_region[2]*100, varian_region[3]*100]\n",
    "\n",
    "plt.plot(name, values)\n",
    "plt.suptitle('Proporsi ')\n",
    "plt.xlabel('jenis region')\n",
    "plt.ylabel('proporsi')\n",
    "plt.show()"
   ]
  },
  {
   "cell_type": "markdown",
   "metadata": {},
   "source": [
    "-----------------------------------------------------------\n",
    "**Soal nomor 3:**\n",
    "\n",
    "1. Mencari peluang besar tagihan berdasarkan BMI"
   ]
  },
  {
   "cell_type": "code",
   "execution_count": 88,
   "metadata": {},
   "outputs": [
    {
     "name": "stdout",
     "output_type": "stream",
     "text": [
      "Peluang besar tagihan berdasarkan BMI\n"
     ]
    },
    {
     "data": {
      "text/plain": [
       "0       1149.39590\n",
       "1       1163.46270\n",
       "2       1242.26000\n",
       "3       1242.81600\n",
       "4       1263.24900\n",
       "          ...     \n",
       "543    48824.45000\n",
       "544    49577.66240\n",
       "545    51194.55914\n",
       "546    62592.87309\n",
       "547    63770.42801\n",
       "Name: 0, Length: 548, dtype: float64"
      ]
     },
     "execution_count": 88,
     "metadata": {},
     "output_type": "execute_result"
    }
   ],
   "source": [
    "bmi_mean = data.groupby('bmi')['charges'].mean()\n",
    "urutan = pd.DataFrame(sorted(bmi_mean))\n",
    "print('Peluang besar tagihan berdasarkan BMI')\n",
    "urutan[0]"
   ]
  },
  {
   "cell_type": "markdown",
   "metadata": {},
   "source": [
    "2. Mencari kemungkin terjadi, seorang perokok dengan BMI diatas 25 akan mendapatkan tagihan kesehatan di atas 16.700."
   ]
  },
  {
   "cell_type": "code",
   "execution_count": 90,
   "metadata": {},
   "outputs": [
    {
     "name": "stdout",
     "output_type": "stream",
     "text": [
      "Peluang seorang perokok diatas dengan BMI diatas 25  0.8195488721804511\n",
      "Peluang tgiahan diatas 16.700  0.07518796992481203\n",
      "Peluang terjadinya :  0.06162021595341738\n"
     ]
    }
   ],
   "source": [
    "perokok_bmi = data[(data['smoker']==0)]\n",
    "bmi_atas_25 = perokok_bmi[(perokok_bmi['bmi']>25)]\n",
    "charges_atas = perokok_bmi[(perokok_bmi['charges']>16700)]\n",
    "\n",
    "pA = bmi_atas_25['bmi'].count() / perokok_bmi['bmi'].count()\n",
    "print('Peluang seorang perokok diatas dengan BMI diatas 25 ',pA)\n",
    "\n",
    "pB = charges_atas['bmi'].count() / perokok_bmi['bmi'].count()\n",
    "print('Peluang tgiahan diatas 16.700 ',pB)\n",
    "\n",
    "pTerjadi = pA * pB\n",
    "print('Peluang terjadinya : ',pTerjadi)"
   ]
  },
  {
   "cell_type": "markdown",
   "metadata": {},
   "source": [
    "3. Berapa peluang seseorang acak tagihan kesehatannya diatas 16.7k diketahui dia adalah perokok"
   ]
  },
  {
   "cell_type": "code",
   "execution_count": 50,
   "metadata": {},
   "outputs": [
    {
     "name": "stdout",
     "output_type": "stream",
     "text": [
      "Peluang seseorang acak tagihan kesehatannya diatas 16.700 diketahui dia adalah perokok :  0.07518796992481203\n",
      "Peluang seseorang acak tagihan kesehatannya dibawah 16.700 diketahui dia adalah perokok :  0.924812030075188\n"
     ]
    },
    {
     "data": {
      "image/png": "[encoded data removed]",
      "text/plain": [
       "<Figure size 432x288 with 1 Axes>"
      ]
     },
     "metadata": {
      "needs_background": "light"
     },
     "output_type": "display_data"
    }
   ],
   "source": [
    "perokok_charges = data[(data['smoker']==0)]\n",
    "\n",
    "hitung_perokok_charges = perokok_charges['smoker'].count()\n",
    "perokok_charges_atas = perokok_bmi[(perokok_bmi['charges']>16700)]\n",
    "perokok_charges_bawah = perokok_bmi[(perokok_bmi['charges']<16700)]\n",
    "\n",
    "charges_up = perokok_charges_atas['charges'].count() / hitung_perokok_charges\n",
    "charges_down = perokok_charges_bawah['charges'].count() / hitung_perokok_charges\n",
    "\n",
    "print(\"Peluang seseorang acak tagihan kesehatannya diatas 16.700 diketahui dia adalah perokok : \",charges_up)\n",
    "print(\"Peluang seseorang acak tagihan kesehatannya dibawah 16.700 diketahui dia adalah perokok : \",charges_down)\n",
    "\n",
    "name = ['Tagihan diatas 16.700','Tagihan dibawah 16.700']\n",
    "value = [charges_up*100, charges_down*100]\n",
    "\n",
    "plt.bar(name,value)\n",
    "plt.suptitle('Peluang tagihan perokok')\n",
    "plt.xlabel('Tagihan')\n",
    "plt.ylabel('Persentase')\n",
    "plt.show()"
   ]
  },
  {
   "cell_type": "markdown",
   "metadata": {},
   "source": [
    "4. Mana yang lebih mungkin terjadi\n",
    "\n",
    "* Seseorang dengan BMI diatas 25 mendapatkan tagihan kesehatan diatas 16.7k, atau\n",
    "\n",
    "* Seseorang dengan BMI dibawah 25 mendapatkan tagihan kesehatan diatas 16.7k"
   ]
  },
  {
   "cell_type": "code",
   "execution_count": 48,
   "metadata": {},
   "outputs": [
    {
     "name": "stdout",
     "output_type": "stream",
     "text": [
      "BMI diatas 25 yang mendapatkan tagihan kesehatan diatas 16700 adalah :  0.85\n",
      "BMI dibawah 25 yang mendapatkan tagihan kesehatan diatas 16700 adalah :  0.15\n"
     ]
    }
   ],
   "source": [
    "perokok_bmi = data[(data['smoker']==0)]\n",
    "bmi_atas_25 = perokok_bmi[(perokok_bmi['bmi'] > 25)]\n",
    "bmi_bawah_25 = perokok_bmi[(perokok_bmi['bmi'] < 25)]\n",
    "\n",
    "hitung_perokok = perokok_bmi[(perokok_bmi['charges'] > 16700)]\n",
    "x_bmi_charges = bmi_atas_25[(bmi_atas_25['charges'] > 16700)]\n",
    "y_bmi_charges = bmi_bawah_25[(bmi_bawah_25['charges'] > 16700)]\n",
    "\n",
    "pA = x_bmi_charges['bmi'].count()/hitung_perokok['bmi'].count()\n",
    "pB = y_bmi_charges['bmi'].count()/hitung_perokok['bmi'].count()\n",
    "\n",
    "print('BMI diatas 25 yang mendapatkan tagihan kesehatan diatas 16700 adalah : ',pA)\n",
    "print('BMI dibawah 25 yang mendapatkan tagihan kesehatan diatas 16700 adalah : ',pB)"
   ]
  },
  {
   "cell_type": "markdown",
   "metadata": {},
   "source": [
    "5. Mana yang lebih mungkin terjadi\n",
    "\n",
    "* Seseorang perokok dengan BMI diatas 25 mendapatkan tagihan kesehatan diatas 16.7k, atau\n",
    "\n",
    "* Seseorang non perokok dengan BMI diatas 25 mendapatkan tagihan kesehatan diatas 16.7k"
   ]
  },
  {
   "cell_type": "code",
   "execution_count": 92,
   "metadata": {},
   "outputs": [
    {
     "name": "stdout",
     "output_type": "stream",
     "text": [
      "Seseorang perokok dengan BMI diatas 25 mendapatkan tagihan kesehatan diatas 16.700 adalah  0.8347744360902256\n",
      "Seseorang non perokok dengan BMI diatas 25 mendapatkan tagihan kesehatan diatas 16.700 adalah  0.4764066900396574\n"
     ]
    }
   ],
   "source": [
    "perokok_bmi = data[(data['smoker'] == 0)]\n",
    "bukan_perokok_bmi = data[(data['smoker'] == 1)]\n",
    "\n",
    "x_diatas_25 = perokok_bmi[(perokok_bmi['bmi'] > 25)]\n",
    "x_dibawah_25 = perokok_bmi[(perokok_bmi['bmi'] < 25)]\n",
    "\n",
    "y_diatas_bmi = bukan_perokok_bmi[(bukan_perokok_bmi['bmi'] > 25)]\n",
    "y_dibawah_bmi = bukan_perokok_bmi[(bukan_perokok_bmi['bmi'] < 25)]\n",
    "\n",
    "x_hitung_perokok = perokok_bmi[(perokok_bmi['charges'] > 16700)]\n",
    "y_hitung_perokok = bukan_perokok_bmi[(bukan_perokok_bmi['charges'] > 16700)]\n",
    "\n",
    "x_charges_atas_16a = x_diatas_25[(x_diatas_25['charges'] > 16700)]\n",
    "y_charges_atas_16a = x_dibawah_25[(x_dibawah_25['charges'] > 16700)]\n",
    "\n",
    "x_charges_atas_16b = y_diatas_bmi[(y_diatas_bmi['charges'] > 16700)]\n",
    "y_charges_atas_16b = y_dibawah_bmi[(y_dibawah_bmi['charges'] > 16700)]\n",
    "\n",
    "# P(A) = n(A)/n(S)\n",
    "# jumlah perokok dan tidak perokok\n",
    "perokok = perokok_bmi['smoker'].count()\n",
    "bukan_perokok  = bukan_perokok_bmi['smoker'].count()\n",
    "\n",
    "# jumlah perokok dengan BMI 25 dan BMI dibawah 25\n",
    "perokok_bmi_atas = x_diatas_25['bmi'].count()\n",
    "perokok_bmi_bawah = x_dibawah_25['bmi'].count()\n",
    "\n",
    "# jumlah tidak perokok dengan BMI 25 dan BMI dibawah 25\n",
    "bukan_perokok_bmi_atas = y_diatas_bmi['bmi'].count()\n",
    "bukan_perokok_bmi_bawah = y_dibawah_bmi['bmi'].count()\n",
    "\n",
    "# jumlah tidak perokok dengan tagihan diatas 16.7K\n",
    "x_hitung_perokok\n",
    "y_hitung_perokok\n",
    "\n",
    "# peluang dari perokok dengan BMI 25 dan tagihan diatas 16.7K\n",
    "Pax = perokok_bmi_atas / perokok\n",
    "Pay = perokok_bmi_bawah / perokok\n",
    "\n",
    "Pbx = x_charges_atas_16a['charges'].count() / x_hitung_perokok['charges'].count()\n",
    "Pby = y_charges_atas_16a['charges'].count() / x_hitung_perokok['charges'].count()\n",
    "\n",
    "# peluang dari non-perokok dengan BMI 25 dan tagihan diatas 16.7K\n",
    "Pcx = bukan_perokok_bmi_atas / bukan_perokok\n",
    "Pcy = bukan_perokok_bmi_bawah / bukan_perokok\n",
    "\n",
    "Pdx = x_charges_atas_16b['charges'].count() / y_hitung_perokok['charges'].count()\n",
    "Pdy = y_charges_atas_16b['charges'].count() / y_hitung_perokok['charges'].count()\n",
    "\n",
    "\n",
    "Xx = ((Pax+Pbx) / 2) # Perokok\n",
    "Xy = ((Pcx+Pdy) / 2) # Non-Perokok\n",
    "\n",
    "print('Seseorang perokok dengan BMI diatas 25 mendapatkan tagihan kesehatan diatas 16.700 adalah ',Xx)\n",
    "print('Seseorang non perokok dengan BMI diatas 25 mendapatkan tagihan kesehatan diatas 16.700 adalah ',Xy)"
   ]
  }
 ],
 "metadata": {
  "kernelspec": {
   "display_name": "Python 3.8.8 ('base')",
   "language": "python",
   "name": "python3"
  },
  "language_info": {
   "codemirror_mode": {
    "name": "ipython",
    "version": 3
   },
   "file_extension": ".py",
   "mimetype": "text/x-python",
   "name": "python",
   "nbconvert_exporter": "python",
   "pygments_lexer": "ipython3",
   "version": "3.8.8"
  },
  "orig_nbformat": 4,
  "vscode": {
   "interpreter": {
    "hash": "263930470851f494f0ed2879c35b57985588df20f9e529b86e97dd5eb9ddc466"
   }
  }
 },
 "nbformat": 4,
 "nbformat_minor": 2
}
